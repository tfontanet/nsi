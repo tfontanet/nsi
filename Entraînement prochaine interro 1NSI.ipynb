{
 "cells": [
  {
   "cell_type": "markdown",
   "metadata": {},
   "source": [
    "# Entrainement pour la prochaine interrogation \n",
    "\n",
    "Pour chacun des exercices ci-dessous, compléter le code de telle sorte qu'il passe tous les asserts"
   ]
  },
  {
   "cell_type": "markdown",
   "metadata": {},
   "source": [
    "### Exercice 1"
   ]
  },
  {
   "cell_type": "code",
   "execution_count": null,
   "metadata": {},
   "outputs": [],
   "source": [
    "def cache(mot):\n",
    "    \"\"\" Fonction qui renvoie autant de * qu'il y a de caractères dans mot \"\"\"\n",
    "    pass\n",
    "\n",
    "print(cache(\"jalousie\"))"
   ]
  },
  {
   "cell_type": "code",
   "execution_count": null,
   "metadata": {
    "deletable": false,
    "editable": false
   },
   "outputs": [],
   "source": [
    "assert cache(\"jalousie\") == \"********\"\n",
    "assert cache(\"honte\") == \"*****\"\n",
    "assert cache(\"\") == \"\"\n",
    "assert cache(\"123 soleil\") == \"**********\""
   ]
  },
  {
   "cell_type": "markdown",
   "metadata": {},
   "source": [
    "### Exercice 2"
   ]
  },
  {
   "cell_type": "code",
   "execution_count": null,
   "metadata": {},
   "outputs": [],
   "source": [
    "def épelle(mot):\n",
    "    \"\"\" Fonction qui ajoute un tiret après chaque caractères de mot \"\"\"\n",
    "    pass\n",
    "\n",
    "print(épelle(\"sport\"))"
   ]
  },
  {
   "cell_type": "code",
   "execution_count": null,
   "metadata": {
    "deletable": false,
    "editable": false
   },
   "outputs": [],
   "source": [
    "assert épelle(\"sport\") == \"s-p-o-r-t-\"\n",
    "assert épelle(\"musique\") == \"m-u-s-i-q-u-e-\"\n",
    "assert épelle(\"jeux\") == \"j-e-u-x-\"\n",
    "assert épelle(\"sieste\") == \"s-i-e-s-t-e-\""
   ]
  },
  {
   "cell_type": "markdown",
   "metadata": {},
   "source": [
    "### Exercice 3"
   ]
  },
  {
   "cell_type": "code",
   "execution_count": null,
   "metadata": {},
   "outputs": [],
   "source": [
    "def mange_lettre(mot):\n",
    "    \"\"\" Fonction qui renvoie 'mot' privé de sa première lettre. \"\"\"\n",
    "    pass\n",
    "\n",
    "print(mange_lettre(\"broute\"))"
   ]
  },
  {
   "cell_type": "code",
   "execution_count": null,
   "metadata": {
    "deletable": false,
    "editable": false
   },
   "outputs": [],
   "source": [
    "assert mange_lettre(\"broute\") == 'route'\n",
    "assert mange_lettre(\"privé\") == 'rivé'\n",
    "assert mange_lettre(\"classe\") == 'lasse'\n",
    "assert mange_lettre(\"mamie\") == 'amie'"
   ]
  },
  {
   "cell_type": "markdown",
   "metadata": {},
   "source": [
    "### Exercice 4"
   ]
  },
  {
   "cell_type": "code",
   "execution_count": null,
   "metadata": {},
   "outputs": [],
   "source": [
    "def sépare(liste, séparateur):\n",
    "    \"\"\" Fonction qui renvoie une chaine de caractères contenant tous les items de 'liste'\n",
    "        séparés par le caractère 'séparateur' \"\"\"\n",
    "    pass\n",
    "\n",
    "print(sépare(['ceci', 'est', 'une', 'liste'], ' '))"
   ]
  },
  {
   "cell_type": "code",
   "execution_count": null,
   "metadata": {
    "deletable": false,
    "editable": false
   },
   "outputs": [],
   "source": [
    "assert sépare(['ceci', 'est', 'une', 'liste'], ' ') == 'ceci est une liste'\n",
    "assert sépare(['ça', 'va', 'bientôt', 'sonner'], '-') == 'ça-va-bientôt-sonner'\n",
    "assert sépare(['Les sanglots longs', 'des violons de l’automne'], ' (sniff) ') == 'Les sanglots longs (sniff) des violons de l’automne'\n",
    "assert sépare([\"c'est\", \"tout\", \"collé\"], \"\") == \"c'esttoutcollé\""
   ]
  },
  {
   "cell_type": "markdown",
   "metadata": {},
   "source": [
    "### Exercice 5"
   ]
  },
  {
   "cell_type": "code",
   "execution_count": null,
   "metadata": {},
   "outputs": [],
   "source": [
    "def double(liste):\n",
    "    \"\"\" Fonction qui multiplie par 2 les items de 'liste' \"\"\"\n",
    "    pass\n",
    "\n",
    "print(double([1, 2, 3]))"
   ]
  },
  {
   "cell_type": "code",
   "execution_count": null,
   "metadata": {
    "deletable": false,
    "editable": false
   },
   "outputs": [],
   "source": [
    "assert double([1, 2, 3]) == [2, 4, 6]\n",
    "assert double([1/2, 1]) == [1, 2]\n",
    "assert double([0]) == [0]\n",
    "assert double([-1, 0, 1, 2, 3]) == [-2, 0, 2, 4, 6]"
   ]
  }
 ],
 "metadata": {
  "kernelspec": {
   "display_name": "Python 3 (ipykernel)",
   "language": "python",
   "name": "python3"
  },
  "language_info": {
   "codemirror_mode": {
    "name": "ipython",
    "version": 3
   },
   "file_extension": ".py",
   "mimetype": "text/x-python",
   "name": "python",
   "nbconvert_exporter": "python",
   "pygments_lexer": "ipython3",
   "version": "3.10.12"
  }
 },
 "nbformat": 4,
 "nbformat_minor": 4
}
